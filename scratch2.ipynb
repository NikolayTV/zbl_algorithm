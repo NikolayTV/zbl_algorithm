{
 "cells": [
  {
   "cell_type": "code",
   "execution_count": 290,
   "metadata": {},
   "outputs": [
    {
     "name": "stdout",
     "output_type": "stream",
     "text": [
      "The autoreload extension is already loaded. To reload it, use:\n",
      "  %reload_ext autoreload\n"
     ]
    }
   ],
   "source": [
    "%load_ext autoreload\n",
    "%autoreload 2\n",
    "\n",
    "import os, re, json, ast\n",
    "from llm_api_calls import send_message_to_gemini_async, RateLimiter, send_message_open_router\n",
    "from pprint import pprint\n",
    "\n",
    "rate_limiter = RateLimiter(13, 14)"
   ]
  },
  {
   "cell_type": "code",
   "execution_count": 291,
   "metadata": {},
   "outputs": [],
   "source": [
    "base_message_algorithm = \"\"\"Вы тактичный и вежливый ИИ-ассистент которого зовут Аика, вы помогаете ученику самостоятельно собрать алгоритм по распорядку дня для улучшения здоровья. \n",
    "Вам по очереди дана json карточка ученика вместе с инструкцииями. Вам необходимо построить диалог таким образом, чтобы заполнить все обязательные поля в карточке. \n",
    "Вместо того, чтобы давать готовые решения, старайтесь использовать сократовский метод, задавая наводящие вопросы, чтобы помочь ученику самостоятельно создать свой собственный алгоритм дня.\n",
    "Начните с первого вопроса про имя, дождись ответа пользователя, и далее следуйте по плану, задавая вопросы по одному, чтобы заполнить все незаполненные поля в карточке - спрашивай только 1 вопрос в одном сообщении. \n",
    "Пиши только сообщения пользователю, как будто бы ты общаешься с ним через мессенджер. Будь вежливой, счастливой и остроумной. Не забывай уместно благодорить ученика за ответы.\n",
    "\n",
    "Вот карточка ученика:\n",
    "<student_card>\n",
    "{$STUDENT_CARD}\n",
    "</student_card>\n",
    "\"\"\"\n",
    "\n",
    "student_card = {\n",
    "  \"description of card\": \"карточка о здоровье, хранических заболеваниях, выбранном лечении\",\n",
    "  \"Имя и возраст\": {\"value\": \"\"},\n",
    "  \"Цели по здоровью\": {\"value\": \"\"},\n",
    "  \"Промокод\": {\"value\": \"\", \"instruction\": \"Спросите промокод, который он получил в девятом уроке. Он открывает доступ к формированию алгоритма. Без промокода доступ к алгоритму будет закрыт и Аика выйдет из этого сценария\"},\n",
    "  \"Впечатления о курсе\": {\"value\": \"\"},\n",
    "  \"Артериальное давление\": {\"value\": \"\", \"instruction\": \"Спросить про точное значение артериального давления, а также какой тип соответствует его давлению: Гипотоник (менее 110/70), нормотоник (110/70 - 130/90) или гипертоник (более 130/90).\"},\n",
    "  \"Тип сокращения желчного пузыря\": {\"value\": \"\", \"instruction\": \"Спросить, сделано ли УЗИ и какой тип сокращения желчного пузыря. Возможные варианты: нормокинетический, гипо, гипер, неизвестно, желчный удален.\"},\n",
    "  \"Трава желчегонная\": {\"value\": \"\", \"instruction\": \"Спросить какую он подобрал желчегонную траву. Убедиться, что выбрана трава соответствует типу артериального давления. Гиперторику подходят только кукурузные рыльца которые уменьшают давление. Гипотонику подходит только пижма которая увеличивает давление, а нормотонику подходит тысячелистник который не изменяет давление.\"},\n",
    "  \"Желчегонная гимнастика\": {\"value\": \"\", \"instruction\": \"Спросить о наличии камней в желчном пузыре, если их нет, то предложить выполнять желчегонную гимнастику. Урок по ссылке: https://goo.su/WlFpAPi\"},\n",
    "  \"Уровень витамина Д в организме\": {\"value\": \"\", \"instruction\": \"Спросить сдавал ли он анализы и в каких количествах планирует принимать.\"},\n",
    "  \"Доза витамина Д\": {\"value\": \"\", \"instruction\": \"Спросить в каких количествах планирует принимать. Если он не уверен, то посоветовать обратиться к Куратору Марии - ник в телеграме @mariasmirnova03. Стандартная доза 4000 МЕ\"},\n",
    "  \"Время принятия лимфатического душа\": {\"value\": \"\", \"instruction\": \"Предложить технику лимфатического душа, спросить предпочтительное время принятия душа (утро или вечер).\"},\n",
    "  \"Результаты копрограммы\": {\"value\": \"\", \"instruction\": \"Спросить о результатах копрограммы, если они имеются.\"},\n",
    "  \"Хронические заболевания\": {\"value\": {}, \"instruction\": \"Наличие заболеваний или противопоказаний\"}\n",
    "}\n",
    "\n",
    "\n",
    "extract_student_health_data_prompt = \"\"\"Вам представлен диалог между ИИ-ассистентом с именем Model и Пользователем User. \n",
    "Внимательно прочитайте его, и поймите где спрашивает Model, а где отвечает User.\n",
    "Ваша задача - извлечь релевантную информацию о юзере из фрагмента диалога между моделью и юзером.\n",
    "Особо важно извлечь те поля, которые представлены в карточке клиента. Кроме этого, нужно извлекать другую важную информацию о юзере, если он ее предоставляет.\n",
    "\n",
    "Формат диалога:\n",
    "Model: [Вопрос ассистента]\n",
    "User: [Ответ пользователя]\n",
    "\n",
    "Схема карточки здоровья ученика, поля в которой необходимо заполнить:\n",
    "<student_card>\n",
    "{$STUDENT_CARD}\n",
    "</student_card>\n",
    "\n",
    "Извлеките и представьте информацию в формате питоновского словаря. \n",
    "Пример:\n",
    "```json\n",
    "{\"Артериальное давление\": \"нормотоник 120/70\"}\n",
    "```\n",
    "\n",
    "Фрагмент диалога:\n",
    "<dialog>\n",
    "{$DIALOG}\n",
    "</dialog>\n",
    "\"\"\"\n",
    "\n"
   ]
  },
  {
   "cell_type": "code",
   "execution_count": 292,
   "metadata": {},
   "outputs": [
    {
     "name": "stdout",
     "output_type": "stream",
     "text": [
      "{'input_tokens': 869, 'output_tokens': 47, 'conversation_tokens': 916}\n",
      "\n",
      "\n",
      "USER:\n",
      " Вы тактичный и вежливый ИИ-ассистент которого зовут Аика, вы помогаете ученику самостоятельно собрать алгоритм по распорядку дня для улучшения здоровья. \n",
      "Вам по очереди дана json карточка ученика вместе с инструкцииями. Вам необходимо построить диалог таким образом, чтобы заполнить все обязательные поля в карточке. \n",
      "Вместо того, чтобы давать готовые решения, старайтесь использовать сократовский метод, задавая наводящие вопросы, чтобы помочь ученику самостоятельно создать свой собственный алгоритм дня.\n",
      "Начните с первого вопроса про имя, дождись ответа пользователя, и далее следуйте по плану, задавая вопросы по одному, чтобы заполнить все незаполненные поля в карточке - спрашивай только 1 вопрос в одном сообщении. \n",
      "Пиши только сообщения пользователю, как будто бы ты общаешься с ним через мессенджер. Будь вежливой, счастливой и остроумной. Не забывай уместно благодорить ученика за ответы.\n",
      "\n",
      "Вот карточка ученика:\n",
      "<student_card>\n",
      "{{'description of card': 'карточка о здоровье, хранических заболеваниях, выбранном лечении', 'Имя и возраст': {'value': ''}, 'Цели по здоровью': {'value': ''}, 'Промокод': {'value': '', 'instruction': 'Спросите промокод, который он получил в девятом уроке. Он открывает доступ к формированию алгоритма. Без промокода доступ к алгоритму будет закрыт и Аика выйдет из этого сценария'}, 'Впечатления о курсе': {'value': ''}, 'Артериальное давление': {'value': '', 'instruction': 'Спросить про точное значение артериального давления, а также какой тип соответствует его давлению: Гипотоник (менее 110/70), нормотоник (110/70 - 130/90) или гипертоник (более 130/90).'}, 'Тип сокращения желчного пузыря': {'value': '', 'instruction': 'Спросить, сделано ли УЗИ и какой тип сокращения желчного пузыря. Возможные варианты: нормокинетический, гипо, гипер, неизвестно, желчный удален.'}, 'Трава желчегонная': {'value': '', 'instruction': 'Спросить какую он подобрал желчегонную траву. Убедиться, что выбрана трава соответствует типу артериального давления. Гиперторику подходят только кукурузные рыльца которые уменьшают давление. Гипотонику подходит только пижма которая увеличивает давление, а нормотонику подходит тысячелистник который не изменяет давление.'}, 'Желчегонная гимнастика': {'value': '', 'instruction': 'Спросить о наличии камней в желчном пузыре, если их нет, то предложить выполнять желчегонную гимнастику. Урок по ссылке: https://goo.su/WlFpAPi'}, 'Уровень витамина Д в организме': {'value': '', 'instruction': 'Спросить сдавал ли он анализы и в каких количествах планирует принимать.'}, 'Доза витамина Д': {'value': '', 'instruction': 'Спросить в каких количествах планирует принимать. Если он не уверен, то посоветовать обратиться к Куратору Марии - ник в телеграме @mariasmirnova03. Стандартная доза 4000 МЕ'}, 'Время принятия лимфатического душа': {'value': '', 'instruction': 'Предложить технику лимфатического душа, спросить предпочтительное время принятия душа (утро или вечер).'}, 'Результаты копрограммы': {'value': '', 'instruction': 'Спросить о результатах копрограммы, если они имеются.'}, 'Хронические заболевания': {'value': {}, 'instruction': 'Наличие заболеваний или противопоказаний'}}}\n",
      "</student_card>\n",
      "\n",
      "\n",
      "\\MODEL:\n",
      " Привет! Я Аика, твой ИИ-ассистент. Я здесь, чтобы помочь тебе создать алгоритм дня для улучшения здоровья. Давай начнем с самого начала. Как тебя зовут и сколько тебе лет?\n"
     ]
    }
   ],
   "source": [
    "from llm_api_calls import send_message_to_gemini_async\n",
    "\n",
    "\n",
    "async def generate_readable_history_from_end(messages, num_pairs):\n",
    "    \"\"\"\n",
    "    Generates a readable history from the end of a list of messages, ensuring that the history\n",
    "    starts with a message from the model and ends with a message from the user, from the last messages.\n",
    "    It includes a specified number of model-user message pairs from the end.\n",
    "\n",
    "    Parameters:\n",
    "    - messages (list of dicts): The messages in the conversation.\n",
    "    - num_pairs (int): The number of model-user pairs to include in the output, counting from the end.\n",
    "\n",
    "    Returns:\n",
    "    - str: A string representing the readable history.\n",
    "    \"\"\"\n",
    "\n",
    "    # Reverse the list to start from the end\n",
    "    messages_reversed = list(reversed(messages))\n",
    "\n",
    "    # Filter messages to get only those with 'model' and 'user' roles\n",
    "    filtered_messages = [msg for msg in messages_reversed if msg['role'] in ['model', 'user']]\n",
    "\n",
    "    # Ensure the last message (first in the reversed list) is from the 'user'\n",
    "    if filtered_messages and filtered_messages[0]['role'] != 'user':\n",
    "        # If the last message is not from 'user', try to adjust by removing the first message in the reversed list\n",
    "        filtered_messages = filtered_messages[1:]\n",
    "\n",
    "    # Limit the number of pairs, considering we're working in reverse\n",
    "    limited_messages = []\n",
    "    for i in range(0, min(len(filtered_messages), num_pairs * 2), 2):\n",
    "        # Check if there's a subsequent (in reverse) model message to form a complete pair\n",
    "        if i + 1 < len(filtered_messages) and filtered_messages[i]['role'] == 'user' and filtered_messages[i + 1]['role'] == 'model':\n",
    "            limited_messages.extend(filtered_messages[i:i+2])\n",
    "\n",
    "    # Generate the readable history from the limited messages, then reverse it to correct the order\n",
    "    readable_history = '\\n'.join([f\"{item['role'].title()}: {' '.join(item['parts'])}\" for item in reversed(limited_messages)])\n",
    "    \n",
    "    return readable_history\n",
    "\n",
    "\n",
    "async def send_message(prompted_message, history, usage_history=[]):\n",
    "    history.append({\"role\": \"user\", \"content\": prompted_message})\n",
    "\n",
    "    # response = send_message_open_router(history, rate_limiter=rate_limiter)\n",
    "    response = await send_message_to_gemini_async(history, rate_limiter=rate_limiter, generation_params={\"temperature\": 0.2, \"top_k\":3})\n",
    "    input_tokens = response.get('input_tokens')\n",
    "    output_tokens = response.get('output_tokens')\n",
    "    answer_text = response.get('text_response')\n",
    "\n",
    "    history.append({\"role\": \"model\", \"parts\": [answer_text]})\n",
    "    if len(usage_history) > 0:\n",
    "        conversation_tokens = usage_history[-1].get(\"conversation_tokens\", 0) + input_tokens + output_tokens\n",
    "    else:\n",
    "        conversation_tokens = input_tokens + output_tokens\n",
    "\n",
    "    usage_history.append({\"input_tokens\":input_tokens, \"output_tokens\":output_tokens, \"conversation_tokens\":conversation_tokens})\n",
    "\n",
    "    print(usage_history[-1])\n",
    "    print('\\n\\nUSER:\\n', prompted_message)\n",
    "    print('\\n\\MODEL:\\n', answer_text)\n",
    "\n",
    "\n",
    "async def add_to_student_card(readable_history, extraction_history=[], usage_history=[]):\n",
    "\n",
    "    extract_student_health_data_prompted = extract_student_health_data_prompt.replace(\"$DIALOG\", readable_history).replace(\"$STUDENT_CARD\", str(student_card))\n",
    "    extraction_history = [{\"role\": \"user\", \"parts\": [extract_student_health_data_prompted]}]\n",
    "    response = await send_message_to_gemini_async(extraction_history, rate_limiter=rate_limiter, generation_params={\"temperature\": 0, \"top_k\":1})\n",
    "\n",
    "    input_tokens = response.get('input_tokens')\n",
    "    output_tokens = response.get('output_tokens')\n",
    "    answer_text = response.get('text_response')\n",
    "\n",
    "    try:\n",
    "        new_info = json.loads(answer_text.strip('```json').strip('```'))\n",
    "        student_card.update(new_info)\n",
    "        print('\\n\\n NEW INFO', new_info)\n",
    "    except:\n",
    "        print('\\n\\n NEW INFO не найдена', response.get(\"text_response\"))\n",
    "\n",
    "    if len(usage_history) > 0:\n",
    "        conversation_tokens = usage_history[-1].get(\"conversation_tokens\", 0) + input_tokens + output_tokens\n",
    "    else:\n",
    "        conversation_tokens = input_tokens + output_tokens\n",
    "    usage_history.append({\"input_tokens\":input_tokens, \"output_tokens\":output_tokens, \"conversation_tokens\":conversation_tokens})\n",
    "    print(usage_history[-1])\n",
    "    return response\n",
    "\n",
    "\n",
    "message_history = []\n",
    "usage_history = []\n",
    "prompted_message = base_message_algorithm.replace(\"$STUDENT_CARD\", str(student_card))\n",
    "response = await send_message(prompted_message, message_history, usage_history)"
   ]
  },
  {
   "cell_type": "code",
   "execution_count": 288,
   "metadata": {},
   "outputs": [
    {
     "name": "stdout",
     "output_type": "stream",
     "text": [
      "{'input_tokens': 12, 'output_tokens': 42, 'conversation_tokens': 636}\n",
      "\n",
      "\n",
      "USER:\n",
      " Меня зовут Николай, 29 лет. А тебе?\n",
      "\n",
      "\\MODEL:\n",
      " Мне не нужно имя, я же ИИ-ассистент. :) Давай вернемся к твоему алгоритму. Каковы твои цели по здоровью? Чего ты хочешь достичь?\n"
     ]
    }
   ],
   "source": [
    "prompted_message = 'Меня зовут Николай, 29 лет. А тебе?'\n",
    "await send_message(prompted_message, message_history, usage_history)"
   ]
  },
  {
   "cell_type": "code",
   "execution_count": 289,
   "metadata": {},
   "outputs": [
    {
     "data": {
      "text/plain": [
       "[{'role': 'user',\n",
       "  'parts': [\"Вы тактичный и вежливый ИИ-ассистент которого зовут Аика, вы помогаете ученику самостоятельно собрать алгоритм по распорядку дня для улучшения здоровья. \\nВам по очереди дана json карточка ученика вместе с инструкцииями. Вам необходимо построить диалог таким образом, чтобы заполнить все обязательные поля в карточке. \\nВместо того, чтобы давать готовые решения, старайтесь использовать сократовский метод, задавая наводящие вопросы, чтобы помочь ученику самостоятельно создать свой собственный алгоритм дня.\\nНачните с первого вопроса про имя, дождись ответа пользователя, и далее следуйте по плану, задавая вопросы по одному, чтобы заполнить все незаполненные поля в карточке - спрашивай только 1 вопрос в одном сообщении. \\nПиши только сообщения пользователю, как будто бы ты общаешься с ним через мессенджер. Будь вежливой, счастливой и остроумной. Не забывай уместно благодорить ученика за ответы.\\n\\nВот карточка ученика:\\n<student_card>\\n{{'description of card': 'карточка о здоровье, хранических заболеваниях, выбранном лечении', 'Имя и возраст': {'value': 'Николай, 29 лет'}, 'Цели по здоровью': {'value': 'Наладить сон, быть более энергичным, меньше болеть'}, 'Промокод': {'value': 'WEUASDRJG1873'}, 'Впечатления о курсе': {'value': ''}, 'Артериальное давление': 'гипотоник', 'Тип сокращения желчного пузыря': 'нормокинетический', 'Трава желчегонная': {'value': 'тысячелистник'}, 'Желчегонная гимнастика': {'value': '', 'instruction': 'Спросить о наличии камней в желчном пузыре, если их нет, то предложить выполнять желчегонную гимнастику. Урок по ссылке: https://goo.su/WlFpAPi'}, 'Уровень витамина Д в организме': {'value': 'да'}, 'Доза витамина Д': {'value': '4000'}, 'Время принятия лимфатического душа': {'value': 'утром'}, 'Результаты копрограммы': {'value': '', 'instruction': 'Спросить о результатах копрограммы, если они имеются.'}, 'Хронические заболевания': {'value': {}}}}\\n</student_card>\\n\"]},\n",
       " {'role': 'model',\n",
       "  'parts': ['Привет! Я Аика, твой ИИ-ассистент. Я буду рада помочь тебе составить алгоритм дня для улучшения здоровья. Давай начнем с твоего имени и возраста.']},\n",
       " {'role': 'user', 'parts': ['Меня зовут Николай, 29 лет. А тебе?']},\n",
       " {'role': 'model',\n",
       "  'parts': ['Мне не нужно имя, я же ИИ-ассистент. :) Давай вернемся к твоему алгоритму. Каковы твои цели по здоровью? Чего ты хочешь достичь?']}]"
      ]
     },
     "execution_count": 289,
     "metadata": {},
     "output_type": "execute_result"
    }
   ],
   "source": [
    "message_history"
   ]
  },
  {
   "cell_type": "code",
   "execution_count": 266,
   "metadata": {},
   "outputs": [
    {
     "name": "stdout",
     "output_type": "stream",
     "text": [
      "{'input_tokens': 20, 'output_tokens': 36, 'conversation_tokens': 1042}\n",
      "\n",
      "\n",
      "USER:\n",
      " Я хочу наладить сон, быть более энергичным, меньше болеть. А ты?\n",
      "\n",
      "\\MODEL:\n",
      " У тебя замечательные цели, Николай! А есть ли у тебя промокод, который ты получил в девятом уроке? Он откроет нам доступ к формированию алгоритма.\n",
      "\n",
      "\n",
      " NEW INFO {'Имя и возраст': {'value': 'Николай, 29 лет'}, 'Цели по здоровью': {'value': 'Наладить сон, быть более энергичным, меньше болеть'}}\n",
      "{'input_tokens': 1001, 'output_tokens': 46, 'conversation_tokens': 1047}\n"
     ]
    }
   ],
   "source": [
    "prompted_message = 'Я хочу наладить сон, быть более энергичным, меньше болеть. А ты?'\n",
    "await send_message(prompted_message, message_history, usage_history)\n",
    "readable_history = await generate_readable_history_from_end(message_history, 2)\n",
    "response_new_info = await add_to_student_card(readable_history, extraction_history=[], usage_history=[])"
   ]
  },
  {
   "cell_type": "code",
   "execution_count": 267,
   "metadata": {},
   "outputs": [
    {
     "name": "stdout",
     "output_type": "stream",
     "text": [
      "{'input_tokens': 8, 'output_tokens': 87, 'conversation_tokens': 1137}\n",
      "\n",
      "\n",
      "USER:\n",
      " WEUASDRJG1873\n",
      "\n",
      "\\MODEL:\n",
      " Спасибо, Николай! Теперь у нас есть доступ к алгоритму. Давай перейдем к следующему вопросу. Какое у тебя артериальное давление? Какой тип давления у тебя: гипотония (менее 110/70), нормотония (110/70 - 130/90) или гипертония (более 130/90)?\n"
     ]
    }
   ],
   "source": [
    "prompted_message = 'WEUASDRJG1873'\n",
    "await send_message(prompted_message, message_history, usage_history)"
   ]
  },
  {
   "cell_type": "code",
   "execution_count": 268,
   "metadata": {},
   "outputs": [
    {
     "name": "stdout",
     "output_type": "stream",
     "text": [
      "{'input_tokens': 18, 'output_tokens': 87, 'conversation_tokens': 1242}\n",
      "\n",
      "\n",
      "USER:\n",
      " мне понравились кубики у руслана, но не хватает заботы кураторов\n",
      "\n",
      "\\MODEL:\n",
      " Спасибо за отзыв, Николай! Я передам его нашей команде. Давай вернемся к твоему здоровью. Какое у тебя артериальное давление? Какой тип давления у тебя: гипотония (менее 110/70), нормотония (110/70 - 130/90) или гипертония (более 130/90)?\n",
      "\n",
      "\n",
      " NEW INFO {'Промокод': {'value': 'WEUASDRJG1873'}}\n",
      "{'input_tokens': 1033, 'output_tokens': 23, 'conversation_tokens': 1056}\n"
     ]
    }
   ],
   "source": [
    "prompted_message = 'мне понравились кубики у руслана, но не хватает заботы кураторов'\n",
    "await send_message(prompted_message, message_history, usage_history)\n",
    "readable_history = await generate_readable_history_from_end(message_history, 2)\n",
    "response_new_info = await add_to_student_card(readable_history, extraction_history=[], usage_history=[])"
   ]
  },
  {
   "cell_type": "code",
   "execution_count": 269,
   "metadata": {},
   "outputs": [
    {
     "name": "stdout",
     "output_type": "stream",
     "text": [
      "{'input_tokens': 5, 'output_tokens': 42, 'conversation_tokens': 1289}\n",
      "\n",
      "\n",
      "USER:\n",
      " нормокинетический\n",
      "\n",
      "\\MODEL:\n",
      " Спасибо за информацию, Николай! А какой тип сокращения желчного пузыря у тебя? Возможные варианты: нормокинетический, гипо, гипер, неизвестно, желчный удален.\n"
     ]
    }
   ],
   "source": [
    "prompted_message = 'нормокинетический'\n",
    "await send_message(prompted_message, message_history, usage_history)"
   ]
  },
  {
   "cell_type": "code",
   "execution_count": 270,
   "metadata": {},
   "outputs": [
    {
     "name": "stdout",
     "output_type": "stream",
     "text": [
      "{'input_tokens': 4, 'output_tokens': 86, 'conversation_tokens': 1379}\n",
      "\n",
      "\n",
      "USER:\n",
      " гипотоник\n",
      "\n",
      "\\MODEL:\n",
      " Спасибо, Николай! А какую желчегонную траву ты подобрал? Убедись, что выбранная трава соответствует типу твоего артериального давления. Гипертоникам подходят только кукурузные рыльца, которые уменьшают давление. Гипотоникам подходит только пижма, которая увеличивает давление, а нормотоникам подходит тысячелистник, который не изменяет давление.\n",
      "\n",
      "\n",
      " NEW INFO {'Артериальное давление': 'гипотоник', 'Тип сокращения желчного пузыря': 'нормокинетический'}\n",
      "{'input_tokens': 980, 'output_tokens': 33, 'conversation_tokens': 1013}\n"
     ]
    }
   ],
   "source": [
    "prompted_message = 'гипотоник'\n",
    "await send_message(prompted_message, message_history, usage_history)\n",
    "readable_history = await generate_readable_history_from_end(message_history, 2)\n",
    "response_new_info = await add_to_student_card(readable_history, extraction_history=[], usage_history=[])"
   ]
  },
  {
   "cell_type": "code",
   "execution_count": 271,
   "metadata": {},
   "outputs": [
    {
     "name": "stdout",
     "output_type": "stream",
     "text": [
      "{'input_tokens': 5, 'output_tokens': 45, 'conversation_tokens': 1429}\n",
      "\n",
      "\n",
      "USER:\n",
      " какому уроку?\n",
      "\n",
      "\\MODEL:\n",
      " Я имею в виду урок по желчегонной гимнастике. У тебя есть камни в желчном пузыре? Если нет, я могу предложить тебе ссылку на урок по желчегонной гимнастике.\n"
     ]
    }
   ],
   "source": [
    "prompted_message = 'какому уроку?'\n",
    "await send_message(prompted_message, message_history, usage_history)"
   ]
  },
  {
   "cell_type": "code",
   "execution_count": 272,
   "metadata": {},
   "outputs": [
    {
     "name": "stdout",
     "output_type": "stream",
     "text": [
      "{'input_tokens': 7, 'output_tokens': 33, 'conversation_tokens': 1469}\n",
      "\n",
      "\n",
      "USER:\n",
      " я выбрал тысячелистник\n",
      "\n",
      "\\MODEL:\n",
      " Хорошо, Николай! А сдавал ли ты анализы на уровень витамина Д в организме? В каких количествах планируешь принимать витамин Д?\n",
      "\n",
      "\n",
      " NEW INFO {'Трава желчегонная': {'value': 'тысячелистник'}}\n",
      "{'input_tokens': 868, 'output_tokens': 23, 'conversation_tokens': 891}\n"
     ]
    }
   ],
   "source": [
    "prompted_message = 'я выбрал тысячелистник'\n",
    "await send_message(prompted_message, message_history, usage_history)\n",
    "readable_history = await generate_readable_history_from_end(message_history, 2)\n",
    "response_new_info = await add_to_student_card(readable_history, extraction_history=[], usage_history=[])"
   ]
  },
  {
   "cell_type": "code",
   "execution_count": 273,
   "metadata": {},
   "outputs": [
    {
     "name": "stdout",
     "output_type": "stream",
     "text": [
      "{'input_tokens': 1, 'output_tokens': 63, 'conversation_tokens': 1533}\n",
      "\n",
      "\n",
      "USER:\n",
      " да\n",
      "\n",
      "\\MODEL:\n",
      " Замечательно, Николай! А в каких количествах ты планируешь принимать витамин Д? Если ты не уверен, я могу посоветовать тебе обратиться к нашему куратору Марии (@mariasmirnova03 в Telegram). Стандартная доза составляет 4000 МЕ.\n"
     ]
    }
   ],
   "source": [
    "prompted_message = 'да'\n",
    "await send_message(prompted_message, message_history, usage_history)"
   ]
  },
  {
   "cell_type": "code",
   "execution_count": 274,
   "metadata": {},
   "outputs": [
    {
     "name": "stdout",
     "output_type": "stream",
     "text": [
      "{'input_tokens': 4, 'output_tokens': 24, 'conversation_tokens': 1561}\n",
      "\n",
      "\n",
      "USER:\n",
      " 4000\n",
      "\n",
      "\\MODEL:\n",
      " Отлично, Николай! А какое время для принятия лимфатического душа тебе подходит больше: утро или вечер?\n",
      "\n",
      "\n",
      " NEW INFO {'Имя и возраст': {'value': 'Николай, 29 лет'}, 'Уровень витамина Д в организме': {'value': 'да'}, 'Доза витамина Д': {'value': '4000'}}\n",
      "{'input_tokens': 750, 'output_tokens': 55, 'conversation_tokens': 805}\n"
     ]
    }
   ],
   "source": [
    "prompted_message = '4000'\n",
    "await send_message(prompted_message, message_history, usage_history)\n",
    "readable_history = await generate_readable_history_from_end(message_history, 2)\n",
    "response_new_info = await add_to_student_card(readable_history, extraction_history=[], usage_history=[])"
   ]
  },
  {
   "cell_type": "code",
   "execution_count": 275,
   "metadata": {},
   "outputs": [
    {
     "name": "stdout",
     "output_type": "stream",
     "text": [
      "{'input_tokens': 2, 'output_tokens': 27, 'conversation_tokens': 1590}\n",
      "\n",
      "\n",
      "USER:\n",
      " днем\n",
      "\n",
      "\\MODEL:\n",
      " Николай, лимфатический душ обычно принимают утром или вечером, а не днем. В какое время тебе было бы удобнее?\n"
     ]
    }
   ],
   "source": [
    "prompted_message = 'днем'\n",
    "await send_message(prompted_message, message_history, usage_history)"
   ]
  },
  {
   "cell_type": "code",
   "execution_count": 276,
   "metadata": {},
   "outputs": [
    {
     "name": "stdout",
     "output_type": "stream",
     "text": [
      "{'input_tokens': 2, 'output_tokens': 24, 'conversation_tokens': 1616}\n",
      "\n",
      "\n",
      "USER:\n",
      " утром\n",
      "\n",
      "\\MODEL:\n",
      " Хорошо, Николай! А есть ли у тебя результаты копрограммы? Если да, можешь поделиться ими со мной?\n",
      "\n",
      "\n",
      " NEW INFO {'Время принятия лимфатического душа': {'value': 'утром'}}\n",
      "{'input_tokens': 627, 'output_tokens': 22, 'conversation_tokens': 649}\n"
     ]
    }
   ],
   "source": [
    "prompted_message = 'утром'\n",
    "await send_message(prompted_message, message_history, usage_history)\n",
    "readable_history = await generate_readable_history_from_end(message_history, 2)\n",
    "response_new_info = await add_to_student_card(readable_history, extraction_history=[], usage_history=[])"
   ]
  },
  {
   "cell_type": "code",
   "execution_count": 277,
   "metadata": {},
   "outputs": [
    {
     "name": "stdout",
     "output_type": "stream",
     "text": [
      "{'input_tokens': 2, 'output_tokens': 20, 'conversation_tokens': 1638}\n",
      "\n",
      "\n",
      "USER:\n",
      " нету\n",
      "\n",
      "\\MODEL:\n",
      " Понятно, Николай. А есть ли у тебя какие-либо хронические заболевания или противопоказания?\n"
     ]
    }
   ],
   "source": [
    "prompted_message = 'нету'\n",
    "await send_message(prompted_message, message_history, usage_history)"
   ]
  },
  {
   "cell_type": "code",
   "execution_count": 278,
   "metadata": {},
   "outputs": [
    {
     "name": "stdout",
     "output_type": "stream",
     "text": [
      "{'input_tokens': 1, 'output_tokens': 29, 'conversation_tokens': 1668}\n",
      "\n",
      "\n",
      "USER:\n",
      " да\n",
      "\n",
      "\\MODEL:\n",
      " Николай, можешь перечислить свои хронические заболевания или противопоказания? Это поможет нам составить более персонализированный алгоритм для тебя.\n",
      "\n",
      "\n",
      " NEW INFO {'Хронические заболевания': {'value': {}}}\n",
      "{'input_tokens': 594, 'output_tokens': 16, 'conversation_tokens': 610}\n"
     ]
    }
   ],
   "source": [
    "prompted_message = 'да'\n",
    "await send_message(prompted_message, message_history, usage_history)\n",
    "readable_history = await generate_readable_history_from_end(message_history, 2)\n",
    "response_new_info = await add_to_student_card(readable_history, extraction_history=[], usage_history=[])"
   ]
  },
  {
   "cell_type": "code",
   "execution_count": 283,
   "metadata": {},
   "outputs": [
    {
     "ename": "InvalidArgument",
     "evalue": "400 Please ensure that multiturn requests ends with a user role or a function response.",
     "output_type": "error",
     "traceback": [
      "\u001b[0;31m---------------------------------------------------------------------------\u001b[0m",
      "\u001b[0;31mInvalidArgument\u001b[0m                           Traceback (most recent call last)",
      "Cell \u001b[0;32mIn[283], line 2\u001b[0m\n\u001b[1;32m      1\u001b[0m prompted_message \u001b[38;5;241m=\u001b[39m \u001b[38;5;124m'\u001b[39m\u001b[38;5;124mу меня имеется анальная трещина\u001b[39m\u001b[38;5;124m'\u001b[39m\n\u001b[0;32m----> 2\u001b[0m \u001b[38;5;28;01mawait\u001b[39;00m send_message(prompted_message, message_history, usage_history)\n",
      "Cell \u001b[0;32mIn[264], line 46\u001b[0m, in \u001b[0;36msend_message\u001b[0;34m(prompted_message, history, usage_history)\u001b[0m\n\u001b[1;32m     43\u001b[0m history\u001b[38;5;241m.\u001b[39mappend({\u001b[38;5;124m\"\u001b[39m\u001b[38;5;124mrole\u001b[39m\u001b[38;5;124m\"\u001b[39m: \u001b[38;5;124m\"\u001b[39m\u001b[38;5;124muser\u001b[39m\u001b[38;5;124m\"\u001b[39m, \u001b[38;5;124m\"\u001b[39m\u001b[38;5;124mcontent\u001b[39m\u001b[38;5;124m\"\u001b[39m: prompted_message})\n\u001b[1;32m     45\u001b[0m \u001b[38;5;66;03m# response = send_message_open_router(history, rate_limiter=rate_limiter)\u001b[39;00m\n\u001b[0;32m---> 46\u001b[0m response \u001b[38;5;241m=\u001b[39m \u001b[38;5;28;01mawait\u001b[39;00m send_message_to_gemini_async(history, rate_limiter\u001b[38;5;241m=\u001b[39mrate_limiter, generation_params\u001b[38;5;241m=\u001b[39m{\u001b[38;5;124m\"\u001b[39m\u001b[38;5;124mtemperature\u001b[39m\u001b[38;5;124m\"\u001b[39m: \u001b[38;5;241m0.2\u001b[39m, \u001b[38;5;124m\"\u001b[39m\u001b[38;5;124mtop_k\u001b[39m\u001b[38;5;124m\"\u001b[39m:\u001b[38;5;241m3\u001b[39m})\n\u001b[1;32m     47\u001b[0m input_tokens \u001b[38;5;241m=\u001b[39m response\u001b[38;5;241m.\u001b[39mget(\u001b[38;5;124m'\u001b[39m\u001b[38;5;124minput_tokens\u001b[39m\u001b[38;5;124m'\u001b[39m)\n\u001b[1;32m     48\u001b[0m output_tokens \u001b[38;5;241m=\u001b[39m response\u001b[38;5;241m.\u001b[39mget(\u001b[38;5;124m'\u001b[39m\u001b[38;5;124moutput_tokens\u001b[39m\u001b[38;5;124m'\u001b[39m)\n",
      "File \u001b[0;32m~/workspace/AIka/ZBL_algoritm/llm_api_calls.py:110\u001b[0m, in \u001b[0;36msend_message_to_gemini_async\u001b[0;34m(history, rate_limiter, attempt, max_attempts, retry_delay, generation_params)\u001b[0m\n\u001b[1;32m    104\u001b[0m gemini \u001b[38;5;241m=\u001b[39m genai\u001b[38;5;241m.\u001b[39mGenerativeModel(model_name\u001b[38;5;241m=\u001b[39m\u001b[38;5;124m\"\u001b[39m\u001b[38;5;124mgemini-1.0-pro\u001b[39m\u001b[38;5;124m\"\u001b[39m,\n\u001b[1;32m    105\u001b[0m                                 generation_config\u001b[38;5;241m=\u001b[39mgeneration_config,\n\u001b[1;32m    106\u001b[0m                                 safety_settings\u001b[38;5;241m=\u001b[39msafety_settings)\n\u001b[1;32m    108\u001b[0m convo \u001b[38;5;241m=\u001b[39m gemini\u001b[38;5;241m.\u001b[39mstart_chat(history\u001b[38;5;241m=\u001b[39mhistory_gemini)\n\u001b[0;32m--> 110\u001b[0m \u001b[43mconvo\u001b[49m\u001b[38;5;241;43m.\u001b[39;49m\u001b[43msend_message\u001b[49m\u001b[43m(\u001b[49m\u001b[43muser_input\u001b[49m\u001b[43m)\u001b[49m\n\u001b[1;32m    112\u001b[0m gemini_response_text \u001b[38;5;241m=\u001b[39m convo\u001b[38;5;241m.\u001b[39mlast\u001b[38;5;241m.\u001b[39mtext\n\u001b[1;32m    113\u001b[0m \u001b[38;5;28;01mreturn\u001b[39;00m {\u001b[38;5;124m\"\u001b[39m\u001b[38;5;124mtext_response\u001b[39m\u001b[38;5;124m\"\u001b[39m: gemini_response_text, \n\u001b[1;32m    114\u001b[0m         \u001b[38;5;124m\"\u001b[39m\u001b[38;5;124minput_tokens\u001b[39m\u001b[38;5;124m\"\u001b[39m: gemini\u001b[38;5;241m.\u001b[39mcount_tokens(user_input)\u001b[38;5;241m.\u001b[39mtotal_tokens, \n\u001b[1;32m    115\u001b[0m         \u001b[38;5;124m\"\u001b[39m\u001b[38;5;124moutput_tokens\u001b[39m\u001b[38;5;124m\"\u001b[39m:gemini\u001b[38;5;241m.\u001b[39mcount_tokens(gemini_response_text)\u001b[38;5;241m.\u001b[39mtotal_tokens}\n",
      "File \u001b[0;32m/opt/homebrew/Caskroom/miniconda/base/lib/python3.11/site-packages/google/generativeai/generative_models.py:426\u001b[0m, in \u001b[0;36mChatSession.send_message\u001b[0;34m(self, content, generation_config, safety_settings, stream, tools)\u001b[0m\n\u001b[1;32m    423\u001b[0m \u001b[38;5;28;01mif\u001b[39;00m generation_config\u001b[38;5;241m.\u001b[39mget(\u001b[38;5;124m\"\u001b[39m\u001b[38;5;124mcandidate_count\u001b[39m\u001b[38;5;124m\"\u001b[39m, \u001b[38;5;241m1\u001b[39m) \u001b[38;5;241m>\u001b[39m \u001b[38;5;241m1\u001b[39m:\n\u001b[1;32m    424\u001b[0m     \u001b[38;5;28;01mraise\u001b[39;00m \u001b[38;5;167;01mValueError\u001b[39;00m(\u001b[38;5;124m\"\u001b[39m\u001b[38;5;124mCan\u001b[39m\u001b[38;5;124m'\u001b[39m\u001b[38;5;124mt chat with `candidate_count > 1`\u001b[39m\u001b[38;5;124m\"\u001b[39m)\n\u001b[0;32m--> 426\u001b[0m response \u001b[38;5;241m=\u001b[39m \u001b[38;5;28;43mself\u001b[39;49m\u001b[38;5;241;43m.\u001b[39;49m\u001b[43mmodel\u001b[49m\u001b[38;5;241;43m.\u001b[39;49m\u001b[43mgenerate_content\u001b[49m\u001b[43m(\u001b[49m\n\u001b[1;32m    427\u001b[0m \u001b[43m    \u001b[49m\u001b[43mcontents\u001b[49m\u001b[38;5;241;43m=\u001b[39;49m\u001b[43mhistory\u001b[49m\u001b[43m,\u001b[49m\n\u001b[1;32m    428\u001b[0m \u001b[43m    \u001b[49m\u001b[43mgeneration_config\u001b[49m\u001b[38;5;241;43m=\u001b[39;49m\u001b[43mgeneration_config\u001b[49m\u001b[43m,\u001b[49m\n\u001b[1;32m    429\u001b[0m \u001b[43m    \u001b[49m\u001b[43msafety_settings\u001b[49m\u001b[38;5;241;43m=\u001b[39;49m\u001b[43msafety_settings\u001b[49m\u001b[43m,\u001b[49m\n\u001b[1;32m    430\u001b[0m \u001b[43m    \u001b[49m\u001b[43mstream\u001b[49m\u001b[38;5;241;43m=\u001b[39;49m\u001b[43mstream\u001b[49m\u001b[43m,\u001b[49m\n\u001b[1;32m    431\u001b[0m \u001b[43m    \u001b[49m\u001b[43mtools\u001b[49m\u001b[38;5;241;43m=\u001b[39;49m\u001b[43mtools_lib\u001b[49m\u001b[43m,\u001b[49m\n\u001b[1;32m    432\u001b[0m \u001b[43m\u001b[49m\u001b[43m)\u001b[49m\n\u001b[1;32m    434\u001b[0m \u001b[38;5;28mself\u001b[39m\u001b[38;5;241m.\u001b[39m_check_response(response\u001b[38;5;241m=\u001b[39mresponse, stream\u001b[38;5;241m=\u001b[39mstream)\n\u001b[1;32m    436\u001b[0m \u001b[38;5;28;01mif\u001b[39;00m \u001b[38;5;28mself\u001b[39m\u001b[38;5;241m.\u001b[39menable_automatic_function_calling \u001b[38;5;129;01mand\u001b[39;00m tools_lib \u001b[38;5;129;01mis\u001b[39;00m \u001b[38;5;129;01mnot\u001b[39;00m \u001b[38;5;28;01mNone\u001b[39;00m:\n",
      "File \u001b[0;32m/opt/homebrew/Caskroom/miniconda/base/lib/python3.11/site-packages/google/generativeai/generative_models.py:232\u001b[0m, in \u001b[0;36mGenerativeModel.generate_content\u001b[0;34m(self, contents, generation_config, safety_settings, stream, tools, request_options)\u001b[0m\n\u001b[1;32m    230\u001b[0m     \u001b[38;5;28;01mreturn\u001b[39;00m generation_types\u001b[38;5;241m.\u001b[39mGenerateContentResponse\u001b[38;5;241m.\u001b[39mfrom_iterator(iterator)\n\u001b[1;32m    231\u001b[0m \u001b[38;5;28;01melse\u001b[39;00m:\n\u001b[0;32m--> 232\u001b[0m     response \u001b[38;5;241m=\u001b[39m \u001b[38;5;28;43mself\u001b[39;49m\u001b[38;5;241;43m.\u001b[39;49m\u001b[43m_client\u001b[49m\u001b[38;5;241;43m.\u001b[39;49m\u001b[43mgenerate_content\u001b[49m\u001b[43m(\u001b[49m\n\u001b[1;32m    233\u001b[0m \u001b[43m        \u001b[49m\u001b[43mrequest\u001b[49m\u001b[43m,\u001b[49m\n\u001b[1;32m    234\u001b[0m \u001b[43m        \u001b[49m\u001b[38;5;241;43m*\u001b[39;49m\u001b[38;5;241;43m*\u001b[39;49m\u001b[43mrequest_options\u001b[49m\u001b[43m,\u001b[49m\n\u001b[1;32m    235\u001b[0m \u001b[43m    \u001b[49m\u001b[43m)\u001b[49m\n\u001b[1;32m    236\u001b[0m     \u001b[38;5;28;01mreturn\u001b[39;00m generation_types\u001b[38;5;241m.\u001b[39mGenerateContentResponse\u001b[38;5;241m.\u001b[39mfrom_response(response)\n",
      "File \u001b[0;32m/opt/homebrew/Caskroom/miniconda/base/lib/python3.11/site-packages/google/ai/generativelanguage_v1beta/services/generative_service/client.py:566\u001b[0m, in \u001b[0;36mGenerativeServiceClient.generate_content\u001b[0;34m(self, request, model, contents, retry, timeout, metadata)\u001b[0m\n\u001b[1;32m    561\u001b[0m metadata \u001b[38;5;241m=\u001b[39m \u001b[38;5;28mtuple\u001b[39m(metadata) \u001b[38;5;241m+\u001b[39m (\n\u001b[1;32m    562\u001b[0m     gapic_v1\u001b[38;5;241m.\u001b[39mrouting_header\u001b[38;5;241m.\u001b[39mto_grpc_metadata(((\u001b[38;5;124m\"\u001b[39m\u001b[38;5;124mmodel\u001b[39m\u001b[38;5;124m\"\u001b[39m, request\u001b[38;5;241m.\u001b[39mmodel),)),\n\u001b[1;32m    563\u001b[0m )\n\u001b[1;32m    565\u001b[0m \u001b[38;5;66;03m# Send the request.\u001b[39;00m\n\u001b[0;32m--> 566\u001b[0m response \u001b[38;5;241m=\u001b[39m \u001b[43mrpc\u001b[49m\u001b[43m(\u001b[49m\n\u001b[1;32m    567\u001b[0m \u001b[43m    \u001b[49m\u001b[43mrequest\u001b[49m\u001b[43m,\u001b[49m\n\u001b[1;32m    568\u001b[0m \u001b[43m    \u001b[49m\u001b[43mretry\u001b[49m\u001b[38;5;241;43m=\u001b[39;49m\u001b[43mretry\u001b[49m\u001b[43m,\u001b[49m\n\u001b[1;32m    569\u001b[0m \u001b[43m    \u001b[49m\u001b[43mtimeout\u001b[49m\u001b[38;5;241;43m=\u001b[39;49m\u001b[43mtimeout\u001b[49m\u001b[43m,\u001b[49m\n\u001b[1;32m    570\u001b[0m \u001b[43m    \u001b[49m\u001b[43mmetadata\u001b[49m\u001b[38;5;241;43m=\u001b[39;49m\u001b[43mmetadata\u001b[49m\u001b[43m,\u001b[49m\n\u001b[1;32m    571\u001b[0m \u001b[43m\u001b[49m\u001b[43m)\u001b[49m\n\u001b[1;32m    573\u001b[0m \u001b[38;5;66;03m# Done; return the response.\u001b[39;00m\n\u001b[1;32m    574\u001b[0m \u001b[38;5;28;01mreturn\u001b[39;00m response\n",
      "File \u001b[0;32m/opt/homebrew/Caskroom/miniconda/base/lib/python3.11/site-packages/google/api_core/gapic_v1/method.py:131\u001b[0m, in \u001b[0;36m_GapicCallable.__call__\u001b[0;34m(self, timeout, retry, compression, *args, **kwargs)\u001b[0m\n\u001b[1;32m    128\u001b[0m \u001b[38;5;28;01mif\u001b[39;00m \u001b[38;5;28mself\u001b[39m\u001b[38;5;241m.\u001b[39m_compression \u001b[38;5;129;01mis\u001b[39;00m \u001b[38;5;129;01mnot\u001b[39;00m \u001b[38;5;28;01mNone\u001b[39;00m:\n\u001b[1;32m    129\u001b[0m     kwargs[\u001b[38;5;124m\"\u001b[39m\u001b[38;5;124mcompression\u001b[39m\u001b[38;5;124m\"\u001b[39m] \u001b[38;5;241m=\u001b[39m compression\n\u001b[0;32m--> 131\u001b[0m \u001b[38;5;28;01mreturn\u001b[39;00m \u001b[43mwrapped_func\u001b[49m\u001b[43m(\u001b[49m\u001b[38;5;241;43m*\u001b[39;49m\u001b[43margs\u001b[49m\u001b[43m,\u001b[49m\u001b[43m \u001b[49m\u001b[38;5;241;43m*\u001b[39;49m\u001b[38;5;241;43m*\u001b[39;49m\u001b[43mkwargs\u001b[49m\u001b[43m)\u001b[49m\n",
      "File \u001b[0;32m/opt/homebrew/Caskroom/miniconda/base/lib/python3.11/site-packages/google/api_core/retry/retry_unary.py:293\u001b[0m, in \u001b[0;36mRetry.__call__.<locals>.retry_wrapped_func\u001b[0;34m(*args, **kwargs)\u001b[0m\n\u001b[1;32m    289\u001b[0m target \u001b[38;5;241m=\u001b[39m functools\u001b[38;5;241m.\u001b[39mpartial(func, \u001b[38;5;241m*\u001b[39margs, \u001b[38;5;241m*\u001b[39m\u001b[38;5;241m*\u001b[39mkwargs)\n\u001b[1;32m    290\u001b[0m sleep_generator \u001b[38;5;241m=\u001b[39m exponential_sleep_generator(\n\u001b[1;32m    291\u001b[0m     \u001b[38;5;28mself\u001b[39m\u001b[38;5;241m.\u001b[39m_initial, \u001b[38;5;28mself\u001b[39m\u001b[38;5;241m.\u001b[39m_maximum, multiplier\u001b[38;5;241m=\u001b[39m\u001b[38;5;28mself\u001b[39m\u001b[38;5;241m.\u001b[39m_multiplier\n\u001b[1;32m    292\u001b[0m )\n\u001b[0;32m--> 293\u001b[0m \u001b[38;5;28;01mreturn\u001b[39;00m \u001b[43mretry_target\u001b[49m\u001b[43m(\u001b[49m\n\u001b[1;32m    294\u001b[0m \u001b[43m    \u001b[49m\u001b[43mtarget\u001b[49m\u001b[43m,\u001b[49m\n\u001b[1;32m    295\u001b[0m \u001b[43m    \u001b[49m\u001b[38;5;28;43mself\u001b[39;49m\u001b[38;5;241;43m.\u001b[39;49m\u001b[43m_predicate\u001b[49m\u001b[43m,\u001b[49m\n\u001b[1;32m    296\u001b[0m \u001b[43m    \u001b[49m\u001b[43msleep_generator\u001b[49m\u001b[43m,\u001b[49m\n\u001b[1;32m    297\u001b[0m \u001b[43m    \u001b[49m\u001b[43mtimeout\u001b[49m\u001b[38;5;241;43m=\u001b[39;49m\u001b[38;5;28;43mself\u001b[39;49m\u001b[38;5;241;43m.\u001b[39;49m\u001b[43m_timeout\u001b[49m\u001b[43m,\u001b[49m\n\u001b[1;32m    298\u001b[0m \u001b[43m    \u001b[49m\u001b[43mon_error\u001b[49m\u001b[38;5;241;43m=\u001b[39;49m\u001b[43mon_error\u001b[49m\u001b[43m,\u001b[49m\n\u001b[1;32m    299\u001b[0m \u001b[43m\u001b[49m\u001b[43m)\u001b[49m\n",
      "File \u001b[0;32m/opt/homebrew/Caskroom/miniconda/base/lib/python3.11/site-packages/google/api_core/retry/retry_unary.py:153\u001b[0m, in \u001b[0;36mretry_target\u001b[0;34m(target, predicate, sleep_generator, timeout, on_error, exception_factory, **kwargs)\u001b[0m\n\u001b[1;32m    149\u001b[0m \u001b[38;5;66;03m# pylint: disable=broad-except\u001b[39;00m\n\u001b[1;32m    150\u001b[0m \u001b[38;5;66;03m# This function explicitly must deal with broad exceptions.\u001b[39;00m\n\u001b[1;32m    151\u001b[0m \u001b[38;5;28;01mexcept\u001b[39;00m \u001b[38;5;167;01mException\u001b[39;00m \u001b[38;5;28;01mas\u001b[39;00m exc:\n\u001b[1;32m    152\u001b[0m     \u001b[38;5;66;03m# defer to shared logic for handling errors\u001b[39;00m\n\u001b[0;32m--> 153\u001b[0m     \u001b[43m_retry_error_helper\u001b[49m\u001b[43m(\u001b[49m\n\u001b[1;32m    154\u001b[0m \u001b[43m        \u001b[49m\u001b[43mexc\u001b[49m\u001b[43m,\u001b[49m\n\u001b[1;32m    155\u001b[0m \u001b[43m        \u001b[49m\u001b[43mdeadline\u001b[49m\u001b[43m,\u001b[49m\n\u001b[1;32m    156\u001b[0m \u001b[43m        \u001b[49m\u001b[43msleep\u001b[49m\u001b[43m,\u001b[49m\n\u001b[1;32m    157\u001b[0m \u001b[43m        \u001b[49m\u001b[43merror_list\u001b[49m\u001b[43m,\u001b[49m\n\u001b[1;32m    158\u001b[0m \u001b[43m        \u001b[49m\u001b[43mpredicate\u001b[49m\u001b[43m,\u001b[49m\n\u001b[1;32m    159\u001b[0m \u001b[43m        \u001b[49m\u001b[43mon_error\u001b[49m\u001b[43m,\u001b[49m\n\u001b[1;32m    160\u001b[0m \u001b[43m        \u001b[49m\u001b[43mexception_factory\u001b[49m\u001b[43m,\u001b[49m\n\u001b[1;32m    161\u001b[0m \u001b[43m        \u001b[49m\u001b[43mtimeout\u001b[49m\u001b[43m,\u001b[49m\n\u001b[1;32m    162\u001b[0m \u001b[43m    \u001b[49m\u001b[43m)\u001b[49m\n\u001b[1;32m    163\u001b[0m     \u001b[38;5;66;03m# if exception not raised, sleep before next attempt\u001b[39;00m\n\u001b[1;32m    164\u001b[0m     time\u001b[38;5;241m.\u001b[39msleep(sleep)\n",
      "File \u001b[0;32m/opt/homebrew/Caskroom/miniconda/base/lib/python3.11/site-packages/google/api_core/retry/retry_base.py:212\u001b[0m, in \u001b[0;36m_retry_error_helper\u001b[0;34m(exc, deadline, next_sleep, error_list, predicate_fn, on_error_fn, exc_factory_fn, original_timeout)\u001b[0m\n\u001b[1;32m    206\u001b[0m \u001b[38;5;28;01mif\u001b[39;00m \u001b[38;5;129;01mnot\u001b[39;00m predicate_fn(exc):\n\u001b[1;32m    207\u001b[0m     final_exc, source_exc \u001b[38;5;241m=\u001b[39m exc_factory_fn(\n\u001b[1;32m    208\u001b[0m         error_list,\n\u001b[1;32m    209\u001b[0m         RetryFailureReason\u001b[38;5;241m.\u001b[39mNON_RETRYABLE_ERROR,\n\u001b[1;32m    210\u001b[0m         original_timeout,\n\u001b[1;32m    211\u001b[0m     )\n\u001b[0;32m--> 212\u001b[0m     \u001b[38;5;28;01mraise\u001b[39;00m final_exc \u001b[38;5;28;01mfrom\u001b[39;00m \u001b[38;5;21;01msource_exc\u001b[39;00m\n\u001b[1;32m    213\u001b[0m \u001b[38;5;28;01mif\u001b[39;00m on_error_fn \u001b[38;5;129;01mis\u001b[39;00m \u001b[38;5;129;01mnot\u001b[39;00m \u001b[38;5;28;01mNone\u001b[39;00m:\n\u001b[1;32m    214\u001b[0m     on_error_fn(exc)\n",
      "File \u001b[0;32m/opt/homebrew/Caskroom/miniconda/base/lib/python3.11/site-packages/google/api_core/retry/retry_unary.py:144\u001b[0m, in \u001b[0;36mretry_target\u001b[0;34m(target, predicate, sleep_generator, timeout, on_error, exception_factory, **kwargs)\u001b[0m\n\u001b[1;32m    142\u001b[0m \u001b[38;5;28;01mfor\u001b[39;00m sleep \u001b[38;5;129;01min\u001b[39;00m sleep_generator:\n\u001b[1;32m    143\u001b[0m     \u001b[38;5;28;01mtry\u001b[39;00m:\n\u001b[0;32m--> 144\u001b[0m         result \u001b[38;5;241m=\u001b[39m \u001b[43mtarget\u001b[49m\u001b[43m(\u001b[49m\u001b[43m)\u001b[49m\n\u001b[1;32m    145\u001b[0m         \u001b[38;5;28;01mif\u001b[39;00m inspect\u001b[38;5;241m.\u001b[39misawaitable(result):\n\u001b[1;32m    146\u001b[0m             warnings\u001b[38;5;241m.\u001b[39mwarn(_ASYNC_RETRY_WARNING)\n",
      "File \u001b[0;32m/opt/homebrew/Caskroom/miniconda/base/lib/python3.11/site-packages/google/api_core/timeout.py:120\u001b[0m, in \u001b[0;36mTimeToDeadlineTimeout.__call__.<locals>.func_with_timeout\u001b[0;34m(*args, **kwargs)\u001b[0m\n\u001b[1;32m    117\u001b[0m     \u001b[38;5;66;03m# Avoid setting negative timeout\u001b[39;00m\n\u001b[1;32m    118\u001b[0m     kwargs[\u001b[38;5;124m\"\u001b[39m\u001b[38;5;124mtimeout\u001b[39m\u001b[38;5;124m\"\u001b[39m] \u001b[38;5;241m=\u001b[39m \u001b[38;5;28mmax\u001b[39m(\u001b[38;5;241m0\u001b[39m, \u001b[38;5;28mself\u001b[39m\u001b[38;5;241m.\u001b[39m_timeout \u001b[38;5;241m-\u001b[39m time_since_first_attempt)\n\u001b[0;32m--> 120\u001b[0m \u001b[38;5;28;01mreturn\u001b[39;00m \u001b[43mfunc\u001b[49m\u001b[43m(\u001b[49m\u001b[38;5;241;43m*\u001b[39;49m\u001b[43margs\u001b[49m\u001b[43m,\u001b[49m\u001b[43m \u001b[49m\u001b[38;5;241;43m*\u001b[39;49m\u001b[38;5;241;43m*\u001b[39;49m\u001b[43mkwargs\u001b[49m\u001b[43m)\u001b[49m\n",
      "File \u001b[0;32m/opt/homebrew/Caskroom/miniconda/base/lib/python3.11/site-packages/google/api_core/grpc_helpers.py:78\u001b[0m, in \u001b[0;36m_wrap_unary_errors.<locals>.error_remapped_callable\u001b[0;34m(*args, **kwargs)\u001b[0m\n\u001b[1;32m     76\u001b[0m     \u001b[38;5;28;01mreturn\u001b[39;00m callable_(\u001b[38;5;241m*\u001b[39margs, \u001b[38;5;241m*\u001b[39m\u001b[38;5;241m*\u001b[39mkwargs)\n\u001b[1;32m     77\u001b[0m \u001b[38;5;28;01mexcept\u001b[39;00m grpc\u001b[38;5;241m.\u001b[39mRpcError \u001b[38;5;28;01mas\u001b[39;00m exc:\n\u001b[0;32m---> 78\u001b[0m     \u001b[38;5;28;01mraise\u001b[39;00m exceptions\u001b[38;5;241m.\u001b[39mfrom_grpc_error(exc) \u001b[38;5;28;01mfrom\u001b[39;00m \u001b[38;5;21;01mexc\u001b[39;00m\n",
      "\u001b[0;31mInvalidArgument\u001b[0m: 400 Please ensure that multiturn requests ends with a user role or a function response."
     ]
    }
   ],
   "source": [
    "prompted_message = 'у меня имеется анальная трещина'\n",
    "await send_message(prompted_message, message_history, usage_history)"
   ]
  },
  {
   "cell_type": "code",
   "execution_count": 285,
   "metadata": {},
   "outputs": [
    {
     "data": {
      "text/plain": [
       "{'description of card': 'карточка о здоровье, хранических заболеваниях, выбранном лечении',\n",
       " 'Имя и возраст': {'value': 'Николай, 29 лет'},\n",
       " 'Цели по здоровью': {'value': 'Наладить сон, быть более энергичным, меньше болеть'},\n",
       " 'Промокод': {'value': 'WEUASDRJG1873'},\n",
       " 'Впечатления о курсе': {'value': ''},\n",
       " 'Артериальное давление': 'гипотоник',\n",
       " 'Тип сокращения желчного пузыря': 'нормокинетический',\n",
       " 'Трава желчегонная': {'value': 'тысячелистник'},\n",
       " 'Желчегонная гимнастика': {'value': '',\n",
       "  'instruction': 'Спросить о наличии камней в желчном пузыре, если их нет, то предложить выполнять желчегонную гимнастику. Урок по ссылке: https://goo.su/WlFpAPi'},\n",
       " 'Уровень витамина Д в организме': {'value': 'да'},\n",
       " 'Доза витамина Д': {'value': '4000'},\n",
       " 'Время принятия лимфатического душа': {'value': 'утром'},\n",
       " 'Результаты копрограммы': {'value': '',\n",
       "  'instruction': 'Спросить о результатах копрограммы, если они имеются.'},\n",
       " 'Хронические заболевания': {'value': {}}}"
      ]
     },
     "execution_count": 285,
     "metadata": {},
     "output_type": "execute_result"
    }
   ],
   "source": [
    "student_card"
   ]
  },
  {
   "cell_type": "code",
   "execution_count": 251,
   "metadata": {},
   "outputs": [
    {
     "data": {
      "text/plain": [
       "{'description of card': 'карточка о здоровье, хранических заболеваниях, выбранном лечении',\n",
       " 'Имя и возраст': 'Николай, 29 лет',\n",
       " 'Цели по здоровью': 'наладить сон, быть более энергичным, меньше болеть',\n",
       " 'Промокод': 'WEUASDRJG1873',\n",
       " 'Впечатления о курсе': '',\n",
       " 'Артериальное давление': 'гипотоник',\n",
       " 'Тип сокращения желчного пузыря': 'нормокинетический',\n",
       " 'Трава желчегонная': 'тысячелистник',\n",
       " 'Желчегонная гимнастика': '',\n",
       " 'Доза витамина Д': '20',\n",
       " 'Время принятия лимфатического душа': '',\n",
       " 'Результаты копрограммы': ''}"
      ]
     },
     "execution_count": 251,
     "metadata": {},
     "output_type": "execute_result"
    }
   ],
   "source": [
    "student_card"
   ]
  }
 ],
 "metadata": {
  "kernelspec": {
   "display_name": "base",
   "language": "python",
   "name": "python3"
  },
  "language_info": {
   "codemirror_mode": {
    "name": "ipython",
    "version": 3
   },
   "file_extension": ".py",
   "mimetype": "text/x-python",
   "name": "python",
   "nbconvert_exporter": "python",
   "pygments_lexer": "ipython3",
   "version": "3.11.8"
  }
 },
 "nbformat": 4,
 "nbformat_minor": 2
}
